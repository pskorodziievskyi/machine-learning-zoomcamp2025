{
 "cells": [
  {
   "cell_type": "code",
   "execution_count": 1,
   "id": "99d04065",
   "metadata": {},
   "outputs": [
    {
     "name": "stderr",
     "output_type": "stream",
     "text": [
      "Matplotlib is building the font cache; this may take a moment.\n"
     ]
    },
    {
     "name": "stdout",
     "output_type": "stream",
     "text": [
      "Versions -> numpy: 2.3.3 | pandas: 2.3.2\n"
     ]
    }
   ],
   "source": [
    "\n",
    "import os\n",
    "import io\n",
    "import math\n",
    "import numpy as np\n",
    "import pandas as pd\n",
    "import matplotlib.pyplot as plt\n",
    "\n",
    "PD_DISPLAY_ROWS = 8\n",
    "pd.set_option(\"display.max_rows\", PD_DISPLAY_ROWS)\n",
    "pd.set_option(\"display.max_columns\", 50)\n",
    "\n",
    "print(\"Versions -> numpy:\", np.__version__, \"| pandas:\", pd.__version__)\n"
   ]
  },
  {
   "cell_type": "markdown",
   "id": "8480671b",
   "metadata": {},
   "source": [
    "\n",
    "## Download the dataset"
   ]
  },
  {
   "cell_type": "code",
   "execution_count": 12,
   "id": "c984fea5",
   "metadata": {},
   "outputs": [
    {
     "name": "stdout",
     "output_type": "stream",
     "text": [
      "Dataset is ready at: /Users/pavloskorodziievskyi/Downloads/car_fuel_efficiency.csv\n"
     ]
    }
   ],
   "source": [
    "\n",
    "URL = \"https://raw.githubusercontent.com/alexeygrigorev/datasets/master/car_fuel_efficiency.csv\"\n",
    "CSV_PATH = \"car_fuel_efficiency.csv\"\n",
    "\n",
    "# Preferred (as homework suggests):\n",
    "try:\n",
    "    if not os.path.exists(CSV_PATH):\n",
    "        # Use wget if available\n",
    "        exit_code = os.system(f\"wget -q -O {CSV_PATH} {URL}\")\n",
    "        if exit_code != 0:\n",
    "            raise RuntimeError(\"wget failed or is not installed.\")\n",
    "    print(\"Dataset is ready at:\", os.path.abspath(CSV_PATH))\n",
    "except Exception as e:\n",
    "    print(\"wget path failed, trying pandas direct download...\")\n",
    "    # Fallback: read via pandas and save locally\n",
    "    df_tmp = pd.read_csv(URL)\n",
    "    df_tmp.to_csv(CSV_PATH, index=False)\n",
    "    print(\"Downloaded via pandas and saved to:\", os.path.abspath(CSV_PATH))\n"
   ]
  },
  {
   "cell_type": "markdown",
   "id": "abd8d868",
   "metadata": {},
   "source": [
    "\n",
    "## Load data and keep only the required columns\n"
   ]
  },
  {
   "cell_type": "code",
   "execution_count": 14,
   "id": "a8b25cf9",
   "metadata": {},
   "outputs": [
    {
     "name": "stdout",
     "output_type": "stream",
     "text": [
      "Shape: (9704, 5)\n"
     ]
    },
    {
     "data": {
      "text/html": [
       "<div>\n",
       "<style scoped>\n",
       "    .dataframe tbody tr th:only-of-type {\n",
       "        vertical-align: middle;\n",
       "    }\n",
       "\n",
       "    .dataframe tbody tr th {\n",
       "        vertical-align: top;\n",
       "    }\n",
       "\n",
       "    .dataframe thead th {\n",
       "        text-align: right;\n",
       "    }\n",
       "</style>\n",
       "<table border=\"1\" class=\"dataframe\">\n",
       "  <thead>\n",
       "    <tr style=\"text-align: right;\">\n",
       "      <th></th>\n",
       "      <th>engine_displacement</th>\n",
       "      <th>horsepower</th>\n",
       "      <th>vehicle_weight</th>\n",
       "      <th>model_year</th>\n",
       "      <th>fuel_efficiency_mpg</th>\n",
       "    </tr>\n",
       "  </thead>\n",
       "  <tbody>\n",
       "    <tr>\n",
       "      <th>0</th>\n",
       "      <td>170</td>\n",
       "      <td>159.0</td>\n",
       "      <td>3413.433759</td>\n",
       "      <td>2003</td>\n",
       "      <td>13.231729</td>\n",
       "    </tr>\n",
       "    <tr>\n",
       "      <th>1</th>\n",
       "      <td>130</td>\n",
       "      <td>97.0</td>\n",
       "      <td>3149.664934</td>\n",
       "      <td>2007</td>\n",
       "      <td>13.688217</td>\n",
       "    </tr>\n",
       "    <tr>\n",
       "      <th>2</th>\n",
       "      <td>170</td>\n",
       "      <td>78.0</td>\n",
       "      <td>3079.038997</td>\n",
       "      <td>2018</td>\n",
       "      <td>14.246341</td>\n",
       "    </tr>\n",
       "    <tr>\n",
       "      <th>3</th>\n",
       "      <td>220</td>\n",
       "      <td>NaN</td>\n",
       "      <td>2542.392402</td>\n",
       "      <td>2009</td>\n",
       "      <td>16.912736</td>\n",
       "    </tr>\n",
       "    <tr>\n",
       "      <th>4</th>\n",
       "      <td>210</td>\n",
       "      <td>140.0</td>\n",
       "      <td>3460.870990</td>\n",
       "      <td>2009</td>\n",
       "      <td>12.488369</td>\n",
       "    </tr>\n",
       "  </tbody>\n",
       "</table>\n",
       "</div>"
      ],
      "text/plain": [
       "   engine_displacement  horsepower  vehicle_weight  model_year  \\\n",
       "0                  170       159.0     3413.433759        2003   \n",
       "1                  130        97.0     3149.664934        2007   \n",
       "2                  170        78.0     3079.038997        2018   \n",
       "3                  220         NaN     2542.392402        2009   \n",
       "4                  210       140.0     3460.870990        2009   \n",
       "\n",
       "   fuel_efficiency_mpg  \n",
       "0            13.231729  \n",
       "1            13.688217  \n",
       "2            14.246341  \n",
       "3            16.912736  \n",
       "4            12.488369  "
      ]
     },
     "execution_count": 14,
     "metadata": {},
     "output_type": "execute_result"
    }
   ],
   "source": [
    "\n",
    "use_cols = ['engine_displacement', 'horsepower', 'vehicle_weight', 'model_year', 'fuel_efficiency_mpg']\n",
    "df = pd.read_csv(CSV_PATH, usecols=use_cols)\n",
    "\n",
    "print(\"Shape:\", df.shape)\n",
    "df.head()\n"
   ]
  },
  {
   "cell_type": "markdown",
   "id": "ad37e410",
   "metadata": {},
   "source": [
    "\n",
    "## EDA — Target distribution\n",
    "\n",
    "Does `fuel_efficiency_mpg` have a long tail? \n",
    "We plot a histogram and compute skewness. (Right/positive skew suggests a long tail to the right.)\n"
   ]
  },
  {
   "cell_type": "code",
   "execution_count": 15,
   "id": "1b4737c7",
   "metadata": {},
   "outputs": [
    {
     "data": {
      "image/png": "[encoded data removed]",
      "text/plain": [
       "<Figure size 640x480 with 1 Axes>"
      ]
     },
     "metadata": {},
     "output_type": "display_data"
    },
    {
     "name": "stdout",
     "output_type": "stream",
     "text": [
      "Skewness: -0.012\n",
      "Interpretation: Positive skew -> long right tail; Negative -> long left tail.\n"
     ]
    }
   ],
   "source": [
    "\n",
    "target = 'fuel_efficiency_mpg'\n",
    "fig = plt.figure()\n",
    "plt.hist(df[target].dropna(), bins=30)\n",
    "plt.title(\"Histogram of fuel_efficiency_mpg\")\n",
    "plt.xlabel(\"MPG\")\n",
    "plt.ylabel(\"Count\")\n",
    "plt.show()\n",
    "\n",
    "skew_val = df[target].skew()\n",
    "print(\"Skewness:\", round(float(skew_val), 3))\n",
    "print(\"Interpretation: Positive skew -> long right tail; Negative -> long left tail.\")\n"
   ]
  },
  {
   "cell_type": "markdown",
   "id": "b41fd9d5",
   "metadata": {},
   "source": [
    "\n",
    "## Q1. Which column has missing values?\n",
    "\n",
    "We check only these columns and count missing values.\n"
   ]
  },
  {
   "cell_type": "code",
   "execution_count": 16,
   "id": "ef05cea9",
   "metadata": {},
   "outputs": [
    {
     "name": "stdout",
     "output_type": "stream",
     "text": [
      "engine_displacement      0\n",
      "horsepower             708\n",
      "vehicle_weight           0\n",
      "model_year               0\n",
      "fuel_efficiency_mpg      0\n",
      "dtype: int64\n",
      "\n",
      "Columns with missing values among the selected: ['horsepower']\n"
     ]
    }
   ],
   "source": [
    "\n",
    "na_counts = df.isna().sum()\n",
    "print(na_counts)\n",
    "\n",
    "# Identify which of the specified columns has missing values (if any)\n",
    "na_columns = na_counts[na_counts > 0].index.tolist()\n",
    "print(\"\\nColumns with missing values among the selected:\", na_columns)\n"
   ]
  },
  {
   "cell_type": "markdown",
   "id": "490e7288",
   "metadata": {},
   "source": [
    "\n",
    "## Q2. Median of `horsepower`\n"
   ]
  },
  {
   "cell_type": "code",
   "execution_count": 6,
   "id": "a32c5e81",
   "metadata": {},
   "outputs": [
    {
     "name": "stdout",
     "output_type": "stream",
     "text": [
      "horsepower median: 149.0\n",
      "Closest option: 149.0\n"
     ]
    }
   ],
   "source": [
    "\n",
    "hp_median = float(df['horsepower'].median())\n",
    "print(\"horsepower median:\", hp_median)\n",
    "\n",
    "# Which option is closest?\n",
    "options = np.array([49, 99, 149, 199], dtype=float)\n",
    "closest_opt = options[np.argmin(np.abs(options - hp_median))]\n",
    "print(\"Closest option:\", closest_opt)\n"
   ]
  },
  {
   "cell_type": "markdown",
   "id": "9f93570e",
   "metadata": {},
   "source": [
    "\n",
    "## Prepare & split helpers\n"
   ]
  },
  {
   "cell_type": "code",
   "execution_count": 17,
   "id": "d2bfa5a5",
   "metadata": {},
   "outputs": [],
   "source": [
    "\n",
    "def shuffle_split(df, seed=42, train_frac=0.6, val_frac=0.2):\n",
    "    n = len(df)\n",
    "    idx = np.arange(n)\n",
    "    rng = np.random.default_rng(seed)\n",
    "    rng.shuffle(idx)\n",
    "\n",
    "    n_train = int(n * train_frac)\n",
    "    n_val = int(n * val_frac)\n",
    "    n_test = n - n_train - n_val\n",
    "\n",
    "    train_idx = idx[:n_train]\n",
    "    val_idx = idx[n_train:n_train+n_val]\n",
    "    test_idx = idx[n_train+n_val:]\n",
    "\n",
    "    return df.iloc[train_idx].copy(), df.iloc[val_idx].copy(), df.iloc[test_idx].copy()\n",
    "\n",
    "def prepare_X(df, y_col='fuel_efficiency_mpg'):\n",
    "    # Numerical features only; add bias column of ones\n",
    "    features = ['engine_displacement', 'horsepower', 'vehicle_weight', 'model_year']\n",
    "    X = df[features].values\n",
    "    # add bias\n",
    "    ones = np.ones(len(df))\n",
    "    X = np.column_stack([ones, X])\n",
    "    y = df[y_col].values\n",
    "    return X, y\n",
    "\n",
    "def train_linear_regression(X, y, r=0.0):\n",
    "    # Normal equation with L2 (ridge): (X^T X + r*I)^(-1) X^T y\n",
    "    # Do not regularize the bias term\n",
    "    XTX = X.T.dot(X)\n",
    "    XTy = X.T.dot(y)\n",
    "    if r > 0:\n",
    "        # create regularization matrix\n",
    "        reg = r * np.eye(XTX.shape[0])\n",
    "        reg[0, 0] = 0.0  # don't penalize bias\n",
    "        XTX = XTX + reg\n",
    "    w = np.linalg.solve(XTX, XTy)\n",
    "    return w\n",
    "\n",
    "def predict(X, w):\n",
    "    return X.dot(w)\n",
    "\n",
    "def rmse(y_true, y_pred):\n",
    "    return math.sqrt(np.mean((y_true - y_pred) ** 2))\n"
   ]
  },
  {
   "cell_type": "markdown",
   "id": "874d854b",
   "metadata": {},
   "source": [
    "\n",
    "## Q3. Missing values: fill with 0 vs with train-mean (no regularization)\n",
    "\n",
    "- Shuffle with seed 42\n",
    "- Split 60/20/20\n",
    "- Try filling missing values in the problematic column with **0** and with **mean (from train only)**\n",
    "- Train simple linear regression (r=0) and evaluate on validation set  \n",
    "- Report RMSE (rounded to 2 decimals) and which option is better\n"
   ]
  },
  {
   "cell_type": "code",
   "execution_count": 19,
   "id": "49d93835",
   "metadata": {},
   "outputs": [
    {
     "name": "stdout",
     "output_type": "stream",
     "text": [
      "Problematic column: horsepower\n",
      "RMSE with fill=0  : 0.52\n",
      "RMSE with fill=mean: 0.47\n",
      "Better option: With mean\n"
     ]
    }
   ],
   "source": [
    "\n",
    "# Split\n",
    "df_train, df_val, df_test = shuffle_split(df, seed=42, train_frac=0.6, val_frac=0.2)\n",
    "\n",
    "# Detect the single problematic column from Q1 programmatically\n",
    "na_counts_train = df_train.isna().sum()\n",
    "problem_cols = na_counts_train[na_counts_train > 0].index.tolist()\n",
    "problem_col = problem_cols[0] if len(problem_cols) > 0 else None\n",
    "print(\"Problematic column:\", problem_col)\n",
    "\n",
    "results_q3 = {}\n",
    "\n",
    "# Strategy 1: fill with 0\n",
    "df_train_0 = df_train.copy()\n",
    "df_val_0 = df_val.copy()\n",
    "if problem_col:\n",
    "    df_train_0[problem_col] = df_train_0[problem_col].fillna(0)\n",
    "    df_val_0[problem_col] = df_val_0[problem_col].fillna(0)\n",
    "\n",
    "Xtr, ytr = prepare_X(df_train_0)\n",
    "Xv, yv = prepare_X(df_val_0)\n",
    "w0 = train_linear_regression(Xtr, ytr, r=0.0)\n",
    "rmse0 = rmse(yv, predict(Xv, w0))\n",
    "results_q3[\"fill_0\"] = round(rmse0, 2)\n",
    "\n",
    "# Strategy 2: fill with train mean\n",
    "df_train_m = df_train.copy()\n",
    "df_val_m = df_val.copy()\n",
    "if problem_col:\n",
    "    mean_val = df_train_m[problem_col].mean()\n",
    "    df_train_m[problem_col] = df_train_m[problem_col].fillna(mean_val)\n",
    "    df_val_m[problem_col] = df_val_m[problem_col].fillna(mean_val)\n",
    "\n",
    "Xtrm, ytrm = prepare_X(df_train_m)\n",
    "Xvm, yvm = prepare_X(df_val_m)\n",
    "wm = train_linear_regression(Xtrm, ytrm, r=0.0)\n",
    "rmsem = rmse(yvm, predict(Xvm, wm))\n",
    "results_q3[\"fill_mean\"] = round(rmsem, 2)\n",
    "\n",
    "print(\"RMSE with fill=0  :\", results_q3[\"fill_0\"])\n",
    "print(\"RMSE with fill=mean:\", results_q3[\"fill_mean\"])\n",
    "\n",
    "better = \"Both are equally good\"\n",
    "if results_q3[\"fill_0\"] < results_q3[\"fill_mean\"]:\n",
    "    better = \"With 0\"\n",
    "elif results_q3[\"fill_mean\"] < results_q3[\"fill_0\"]:\n",
    "    better = \"With mean\"\n",
    "print(\"Better option:\", better)\n"
   ]
  },
  {
   "cell_type": "markdown",
   "id": "9718a156",
   "metadata": {},
   "source": [
    "\n",
    "## Q4. Ridge (L2) regularization\n",
    "\n",
    "- Fill NAs with 0\n",
    "- Try r in `[0, 0.01, 0.1, 1, 5, 10, 100]`\n",
    "- Evaluate on validation set (seed=42 split from above)\n",
    "- Report RMSE rounded to 2 decimals and select the best r (smallest r in case of ties)\n"
   ]
  },
  {
   "cell_type": "code",
   "execution_count": 20,
   "id": "638f8594",
   "metadata": {},
   "outputs": [
    {
     "name": "stdout",
     "output_type": "stream",
     "text": [
      "RMSE by r:\n",
      "r=0      -> RMSE: 0.52\n",
      "r=0.01   -> RMSE: 0.52\n",
      "r=0.1    -> RMSE: 0.52\n",
      "r=1      -> RMSE: 0.52\n",
      "r=5      -> RMSE: 0.52\n",
      "r=10     -> RMSE: 0.52\n",
      "r=100    -> RMSE: 0.52\n",
      "\n",
      "Best r: 0 | Best RMSE (rounded): 0.52\n"
     ]
    }
   ],
   "source": [
    "\n",
    "# Reuse df_train/df_val from the seed=42 split\n",
    "\n",
    "def fillna_zero(df_in):\n",
    "    out = df_in.copy()\n",
    "    return out.fillna(0)\n",
    "\n",
    "df_train_z = fillna_zero(df_train)\n",
    "df_val_z = fillna_zero(df_val)\n",
    "\n",
    "Xtr, ytr = prepare_X(df_train_z)\n",
    "Xv, yv = prepare_X(df_val_z)\n",
    "\n",
    "r_list = [0, 0.01, 0.1, 1, 5, 10, 100]\n",
    "\n",
    "rmse_by_r = {}\n",
    "best_rmse = float(\"inf\")\n",
    "best_r = None\n",
    "\n",
    "for r in r_list:\n",
    "    w = train_linear_regression(Xtr, ytr, r=r)\n",
    "    score = rmse(yv, predict(Xv, w))\n",
    "    rmse_by_r[r] = round(score, 2)\n",
    "    if round(score, 6) < round(best_rmse, 6) or (abs(score - best_rmse) < 1e-9 and (best_r is None or r < best_r)):\n",
    "        best_rmse = score\n",
    "        best_r = r\n",
    "\n",
    "print(\"RMSE by r:\")\n",
    "for r in r_list:\n",
    "    print(f\"r={r:<6} -> RMSE: {rmse_by_r[r]}\")\n",
    "\n",
    "print(\"\\nBest r:\", best_r, \"| Best RMSE (rounded):\", round(best_rmse, 2))\n"
   ]
  },
  {
   "cell_type": "markdown",
   "id": "eb8d4456",
   "metadata": {},
   "source": [
    "\n",
    "## Q5. Effect of seed on RMSE stability\n",
    "\n",
    "- Try seeds `0..9`\n",
    "- Split 60/20/20 each time\n",
    "- Fill NAs with 0\n",
    "- Train **no regularization** model\n",
    "- Collect validation RMSEs and compute `np.std` (round to 3 decimals)\n"
   ]
  },
  {
   "cell_type": "code",
   "execution_count": 21,
   "id": "0f9a56a0",
   "metadata": {},
   "outputs": [
    {
     "name": "stdout",
     "output_type": "stream",
     "text": [
      "Validation RMSEs: [np.float64(0.521), np.float64(0.524), np.float64(0.525), np.float64(0.524), np.float64(0.526), np.float64(0.525), np.float64(0.52), np.float64(0.51), np.float64(0.52), np.float64(0.532)]\n",
      "STD: 0.005\n",
      "Closest option: 0.006\n"
     ]
    }
   ],
   "source": [
    "\n",
    "seeds = list(range(10))\n",
    "val_rmses = []\n",
    "\n",
    "for s in seeds:\n",
    "    tr, va, te = shuffle_split(df, seed=s, train_frac=0.6, val_frac=0.2)\n",
    "    tr = tr.fillna(0)\n",
    "    va = va.fillna(0)\n",
    "    Xtr, ytr = prepare_X(tr)\n",
    "    Xv, yv = prepare_X(va)\n",
    "    w = train_linear_regression(Xtr, ytr, r=0.0)\n",
    "    score = rmse(yv, predict(Xv, w))\n",
    "    val_rmses.append(score)\n",
    "\n",
    "val_rmses = np.array(val_rmses, dtype=float)\n",
    "std_val = float(np.std(val_rmses))\n",
    "print(\"Validation RMSEs:\", [round(x, 3) for x in val_rmses])\n",
    "print(\"STD:\", round(std_val, 3))\n",
    "\n",
    "# Choose closest option among [0.001, 0.006, 0.060, 0.600]\n",
    "opts = np.array([0.001, 0.006, 0.060, 0.600])\n",
    "closest = opts[np.argmin(np.abs(opts - round(std_val, 3)))]\n",
    "print(\"Closest option:\", closest)\n"
   ]
  },
  {
   "cell_type": "markdown",
   "id": "89d19089",
   "metadata": {},
   "source": [
    "\n",
    "## Q6. Final model\n",
    "\n",
    "- Split with seed **9**\n",
    "- Combine train and validation\n",
    "- Fill NAs with 0\n",
    "- Train with `r = 0.001`\n",
    "- Report **test RMSE** (rounded) and the closest option\n"
   ]
  },
  {
   "cell_type": "code",
   "execution_count": 22,
   "id": "2645bc57",
   "metadata": {},
   "outputs": [
    {
     "name": "stdout",
     "output_type": "stream",
     "text": [
      "Test RMSE: 0.505\n",
      "Closest option: 0.515\n"
     ]
    }
   ],
   "source": [
    "\n",
    "tr, va, te = shuffle_split(df, seed=9, train_frac=0.6, val_frac=0.2)\n",
    "full_train = pd.concat([tr, va], axis=0).reset_index(drop=True)\n",
    "\n",
    "full_train = full_train.fillna(0)\n",
    "te = te.fillna(0)\n",
    "\n",
    "Xfull, yfull = prepare_X(full_train)\n",
    "Xte, yte = prepare_X(te)\n",
    "\n",
    "w_final = train_linear_regression(Xfull, yfull, r=0.001)\n",
    "test_rmse = rmse(yte, predict(Xte, w_final))\n",
    "print(\"Test RMSE:\", round(test_rmse, 3))\n",
    "\n",
    "# Options: 0.15, 0.515, 5.15, 51.5\n",
    "opts = np.array([0.15, 0.515, 5.15, 51.5])\n",
    "closest = opts[np.argmin(np.abs(opts - round(test_rmse, 3)))]\n",
    "print(\"Closest option:\", closest)\n"
   ]
  }
 ],
 "metadata": {
  "kernelspec": {
   "display_name": "Python 3",
   "language": "python",
   "name": "python3"
  },
  "language_info": {
   "codemirror_mode": {
    "name": "ipython",
    "version": 3
   },
   "file_extension": ".py",
   "mimetype": "text/x-python",
   "name": "python",
   "nbconvert_exporter": "python",
   "pygments_lexer": "ipython3",
   "version": "3.11.13"
  }
 },
 "nbformat": 4,
 "nbformat_minor": 5
}
